{
 "cells": [
  {
   "cell_type": "code",
   "execution_count": 1,
   "metadata": {},
   "outputs": [],
   "source": [
    "import pandas as pd\n",
    "import numpy as np\n",
    "import glob\n",
    "import re"
   ]
  },
  {
   "cell_type": "code",
   "execution_count": 37,
   "metadata": {},
   "outputs": [
    {
     "data": {
      "text/html": [
       "<div>\n",
       "<style scoped>\n",
       "    .dataframe tbody tr th:only-of-type {\n",
       "        vertical-align: middle;\n",
       "    }\n",
       "\n",
       "    .dataframe tbody tr th {\n",
       "        vertical-align: top;\n",
       "    }\n",
       "\n",
       "    .dataframe thead th {\n",
       "        text-align: right;\n",
       "    }\n",
       "</style>\n",
       "<table border=\"1\" class=\"dataframe\">\n",
       "  <thead>\n",
       "    <tr style=\"text-align: right;\">\n",
       "      <th></th>\n",
       "      <th>movie_name</th>\n",
       "      <th>rename</th>\n",
       "    </tr>\n",
       "  </thead>\n",
       "  <tbody>\n",
       "    <tr>\n",
       "      <td>0</td>\n",
       "      <td>극한직업</td>\n",
       "      <td>극한직업</td>\n",
       "    </tr>\n",
       "    <tr>\n",
       "      <td>1</td>\n",
       "      <td>어벤져스: 엔드게임</td>\n",
       "      <td>어벤져스 엔드게임</td>\n",
       "    </tr>\n",
       "    <tr>\n",
       "      <td>2</td>\n",
       "      <td>겨울왕국 2</td>\n",
       "      <td>겨울왕국 2</td>\n",
       "    </tr>\n",
       "    <tr>\n",
       "      <td>3</td>\n",
       "      <td>알라딘</td>\n",
       "      <td>알라딘</td>\n",
       "    </tr>\n",
       "    <tr>\n",
       "      <td>4</td>\n",
       "      <td>기생충</td>\n",
       "      <td>기생충</td>\n",
       "    </tr>\n",
       "    <tr>\n",
       "      <td>...</td>\n",
       "      <td>...</td>\n",
       "      <td>...</td>\n",
       "    </tr>\n",
       "    <tr>\n",
       "      <td>89</td>\n",
       "      <td>프리즌 이스케이프</td>\n",
       "      <td>프리즌 이스케이프</td>\n",
       "    </tr>\n",
       "    <tr>\n",
       "      <td>90</td>\n",
       "      <td>검객</td>\n",
       "      <td>검객</td>\n",
       "    </tr>\n",
       "    <tr>\n",
       "      <td>91</td>\n",
       "      <td>조제</td>\n",
       "      <td>조제</td>\n",
       "    </tr>\n",
       "    <tr>\n",
       "      <td>92</td>\n",
       "      <td>사라진 시간</td>\n",
       "      <td>사라진 시간</td>\n",
       "    </tr>\n",
       "    <tr>\n",
       "      <td>93</td>\n",
       "      <td>밤쉘: 세상을 바꾼 폭탄선언</td>\n",
       "      <td>밤쉘 세상을 바꾼 폭탄선언</td>\n",
       "    </tr>\n",
       "  </tbody>\n",
       "</table>\n",
       "<p>94 rows × 2 columns</p>\n",
       "</div>"
      ],
      "text/plain": [
       "         movie_name          rename\n",
       "0              극한직업            극한직업\n",
       "1        어벤져스: 엔드게임       어벤져스 엔드게임\n",
       "2            겨울왕국 2          겨울왕국 2\n",
       "3               알라딘             알라딘\n",
       "4               기생충             기생충\n",
       "..              ...             ...\n",
       "89        프리즌 이스케이프       프리즌 이스케이프\n",
       "90               검객              검객\n",
       "91               조제              조제\n",
       "92           사라진 시간          사라진 시간\n",
       "93  밤쉘: 세상을 바꾼 폭탄선언  밤쉘 세상을 바꾼 폭탄선언\n",
       "\n",
       "[94 rows x 2 columns]"
      ]
     },
     "execution_count": 37,
     "metadata": {},
     "output_type": "execute_result"
    }
   ],
   "source": [
    "movie_name_df = pd.read_excel('../../../Analysis/movie_dataframe.xlsx').loc[:,['movie_name']]\n",
    "movie_edited_name_list = [name.replace(':','').replace('&','_') for name in list(movie_name_df['movie_name'])]\n",
    "movie_name_df['rename'] = movie_edited_name_list\n",
    "movie_name_df"
   ]
  },
  {
   "cell_type": "code",
   "execution_count": 38,
   "metadata": {},
   "outputs": [
    {
     "data": {
      "text/html": [
       "<div>\n",
       "<style scoped>\n",
       "    .dataframe tbody tr th:only-of-type {\n",
       "        vertical-align: middle;\n",
       "    }\n",
       "\n",
       "    .dataframe tbody tr th {\n",
       "        vertical-align: top;\n",
       "    }\n",
       "\n",
       "    .dataframe thead th {\n",
       "        text-align: right;\n",
       "    }\n",
       "</style>\n",
       "<table border=\"1\" class=\"dataframe\">\n",
       "  <thead>\n",
       "    <tr style=\"text-align: right;\">\n",
       "      <th></th>\n",
       "      <th>movie_name</th>\n",
       "      <th>rename</th>\n",
       "    </tr>\n",
       "  </thead>\n",
       "  <tbody>\n",
       "    <tr>\n",
       "      <td>14</td>\n",
       "      <td>분노의 질주: 홉스&amp;쇼</td>\n",
       "      <td>분노의 질주 홉스_쇼</td>\n",
       "    </tr>\n",
       "  </tbody>\n",
       "</table>\n",
       "</div>"
      ],
      "text/plain": [
       "      movie_name       rename\n",
       "14  분노의 질주: 홉스&쇼  분노의 질주 홉스_쇼"
      ]
     },
     "execution_count": 38,
     "metadata": {},
     "output_type": "execute_result"
    }
   ],
   "source": [
    "movie_name_df[movie_name_df['rename'].str.contains('분노의 질주')]"
   ]
  },
  {
   "cell_type": "code",
   "execution_count": 39,
   "metadata": {},
   "outputs": [
    {
     "data": {
      "text/plain": [
       "92"
      ]
     },
     "execution_count": 39,
     "metadata": {},
     "output_type": "execute_result"
    }
   ],
   "source": [
    "file_list = glob.glob('../sentiment_analysis_files/*')\n",
    "len(file_list)"
   ]
  },
  {
   "cell_type": "code",
   "execution_count": 45,
   "metadata": {},
   "outputs": [],
   "source": [
    "columns=['영화명', 'mean_score', 'sqr_mean_score', 'abs_mean_score']\n",
    "result = pd.DataFrame(columns=columns)\n",
    "\n",
    "for file in file_list:\n",
    "  df_comments = pd.read_csv(file)\n",
    "\n",
    "  movie_name = re.match(r'^.*sentiment\\_analysis\\_files\\/score\\_youtube\\_comments\\_(.*).csv$', file).group(1)\n",
    "  match_name = list(movie_name_df[movie_name_df['rename'] == movie_name].loc[:, 'movie_name'])[0]\n",
    "  \n",
    "  mean_score = np.mean(df_comments['score'])\n",
    "  sqr_mean_score = np.mean(df_comments['score']**2)\n",
    "  abs_mean_score = np.mean(np.abs(df_comments['score']))\n",
    "\n",
    "  new_row = [[match_name, mean_score, sqr_mean_score, abs_mean_score]]\n",
    "\n",
    "  result = result.append(pd.DataFrame(new_row, columns=columns), ignore_index=True)\n"
   ]
  },
  {
   "cell_type": "code",
   "execution_count": 46,
   "metadata": {},
   "outputs": [],
   "source": [
    "result.to_csv('state_score.csv', encoding='utf-8-sig')"
   ]
  },
  {
   "cell_type": "code",
   "execution_count": null,
   "metadata": {},
   "outputs": [],
   "source": []
  },
  {
   "cell_type": "code",
   "execution_count": null,
   "metadata": {},
   "outputs": [],
   "source": []
  }
 ],
 "metadata": {
  "interpreter": {
   "hash": "31f2aee4e71d21fbe5cf8b01ff0e069b9275f58929596ceb00d14d90e3e16cd6"
  },
  "kernelspec": {
   "display_name": "Python 3.7.5 64-bit",
   "language": "python",
   "name": "python3"
  },
  "language_info": {
   "codemirror_mode": {
    "name": "ipython",
    "version": 3
   },
   "file_extension": ".py",
   "mimetype": "text/x-python",
   "name": "python",
   "nbconvert_exporter": "python",
   "pygments_lexer": "ipython3",
   "version": "3.7.4"
  },
  "orig_nbformat": 4
 },
 "nbformat": 4,
 "nbformat_minor": 2
}
