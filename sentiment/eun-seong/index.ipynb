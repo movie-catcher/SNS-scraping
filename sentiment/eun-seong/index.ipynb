{
 "cells": [
  {
   "cell_type": "code",
   "execution_count": 5,
   "metadata": {},
   "outputs": [],
   "source": [
    "import pandas as pd\n",
    "import numpy as np\n",
    "import glob\n",
    "import re"
   ]
  },
  {
   "cell_type": "code",
   "execution_count": 6,
   "metadata": {},
   "outputs": [
    {
     "data": {
      "text/plain": [
       "['../../sentiment_analysis_files/score_youtube_comments_오! 문희.csv',\n",
       " '../../sentiment_analysis_files/score_youtube_comments_존 윅 3 파라벨룸.csv',\n",
       " '../../sentiment_analysis_files/score_youtube_comments_다만 악에서 구하소서.csv',\n",
       " '../../sentiment_analysis_files/score_youtube_comments_유열의 음악앨범.csv',\n",
       " '../../sentiment_analysis_files/score_youtube_comments_히트맨.csv',\n",
       " '../../sentiment_analysis_files/score_youtube_comments_침입자.csv',\n",
       " '../../sentiment_analysis_files/score_youtube_comments_해치지않아.csv',\n",
       " '../../sentiment_analysis_files/score_youtube_comments_스타워즈 라이즈 오브 스카이워커.csv',\n",
       " '../../sentiment_analysis_files/score_youtube_comments_악인전.csv',\n",
       " '../../sentiment_analysis_files/score_youtube_comments_타짜 원 아이드 잭.csv',\n",
       " '../../sentiment_analysis_files/score_youtube_comments_내안의 그놈.csv',\n",
       " '../../sentiment_analysis_files/score_youtube_comments_담보.csv',\n",
       " '../../sentiment_analysis_files/score_youtube_comments_말모이.csv',\n",
       " '../../sentiment_analysis_files/score_youtube_comments_버즈 오브 프레이(할리 퀸의 황홀한 해방).csv',\n",
       " '../../sentiment_analysis_files/score_youtube_comments_신의 한 수 귀수편.csv',\n",
       " '../../sentiment_analysis_files/score_youtube_comments_롱 리브 더 킹 목포 영웅.csv',\n",
       " '../../sentiment_analysis_files/score_youtube_comments_알라딘.csv',\n",
       " '../../sentiment_analysis_files/score_youtube_comments_도굴.csv',\n",
       " '../../sentiment_analysis_files/score_youtube_comments_아쿠아맨.csv',\n",
       " '../../sentiment_analysis_files/score_youtube_comments_스파이더맨 파 프롬 홈.csv',\n",
       " '../../sentiment_analysis_files/score_youtube_comments_스파이 지니어스.csv',\n",
       " '../../sentiment_analysis_files/score_youtube_comments_조커.csv',\n",
       " '../../sentiment_analysis_files/score_youtube_comments_알리타 배틀 엔젤.csv',\n",
       " '../../sentiment_analysis_files/score_youtube_comments_분노의 질주 홉스_쇼.csv',\n",
       " '../../sentiment_analysis_files/score_youtube_comments_강철비2 정상회담.csv',\n",
       " '../../sentiment_analysis_files/score_youtube_comments_미드웨이.csv',\n",
       " '../../sentiment_analysis_files/score_youtube_comments_터미네이터 다크 페이트.csv',\n",
       " '../../sentiment_analysis_files/score_youtube_comments_닥터 두리틀.csv',\n",
       " '../../sentiment_analysis_files/score_youtube_comments_소리도 없이.csv',\n",
       " '../../sentiment_analysis_files/score_youtube_comments_오케이 마담.csv',\n",
       " '../../sentiment_analysis_files/score_youtube_comments_위대한 쇼맨.csv',\n",
       " '../../sentiment_analysis_files/score_youtube_comments_항거유관순 이야기.csv',\n",
       " '../../sentiment_analysis_files/score_youtube_comments_결백.csv',\n",
       " '../../sentiment_analysis_files/score_youtube_comments_사바하.csv',\n",
       " '../../sentiment_analysis_files/score_youtube_comments_#살아있다.csv',\n",
       " '../../sentiment_analysis_files/score_youtube_comments_포드 V 페라리.csv',\n",
       " '../../sentiment_analysis_files/score_youtube_comments_삼진그룹 영어토익반.csv',\n",
       " '../../sentiment_analysis_files/score_youtube_comments_증인.csv',\n",
       " '../../sentiment_analysis_files/score_youtube_comments_밤쉘 세상을 바꾼 폭탄선언.csv',\n",
       " '../../sentiment_analysis_files/score_youtube_comments_클로젯.csv',\n",
       " '../../sentiment_analysis_files/score_youtube_comments_기생충.csv',\n",
       " '../../sentiment_analysis_files/score_youtube_comments_반도.csv',\n",
       " '../../sentiment_analysis_files/score_youtube_comments_가장 보통의 연애.csv',\n",
       " '../../sentiment_analysis_files/score_youtube_comments_인비저블맨.csv',\n",
       " '../../sentiment_analysis_files/score_youtube_comments_뺑반.csv',\n",
       " '../../sentiment_analysis_files/score_youtube_comments_조제.csv',\n",
       " '../../sentiment_analysis_files/score_youtube_comments_천문 하늘에 묻는다.csv',\n",
       " '../../sentiment_analysis_files/score_youtube_comments_신비아파트 극장판 하늘도깨비 대 요르문간드.csv',\n",
       " '../../sentiment_analysis_files/score_youtube_comments_말레피센트 2.csv',\n",
       " '../../sentiment_analysis_files/score_youtube_comments_미스터 주 사라진 VIP.csv',\n",
       " '../../sentiment_analysis_files/score_youtube_comments_작은 아씨들.csv',\n",
       " '../../sentiment_analysis_files/score_youtube_comments_뮬란.csv',\n",
       " '../../sentiment_analysis_files/score_youtube_comments_국제수사.csv',\n",
       " '../../sentiment_analysis_files/score_youtube_comments_라이온 킹.csv',\n",
       " '../../sentiment_analysis_files/score_youtube_comments_어벤져스 엔드게임.csv',\n",
       " '../../sentiment_analysis_files/score_youtube_comments_토이 스토리 4.csv',\n",
       " '../../sentiment_analysis_files/score_youtube_comments_변신.csv',\n",
       " '../../sentiment_analysis_files/score_youtube_comments_퍼펙트맨.csv',\n",
       " '../../sentiment_analysis_files/score_youtube_comments_마이펫의 이중생활 2.csv',\n",
       " '../../sentiment_analysis_files/score_youtube_comments_주먹왕 랄프 2 인터넷 속으로.csv',\n",
       " '../../sentiment_analysis_files/score_youtube_comments_나쁜 녀석들 포에버.csv',\n",
       " '../../sentiment_analysis_files/score_youtube_comments_캡틴 마블.csv',\n",
       " '../../sentiment_analysis_files/score_youtube_comments_그린랜드.csv',\n",
       " '../../sentiment_analysis_files/score_youtube_comments_온워드 단 하루의 기적.csv',\n",
       " '../../sentiment_analysis_files/score_youtube_comments_생일.csv',\n",
       " '../../sentiment_analysis_files/score_youtube_comments_백두산.csv',\n",
       " '../../sentiment_analysis_files/score_youtube_comments_나쁜 녀석들 더 무비.csv',\n",
       " '../../sentiment_analysis_files/score_youtube_comments_검객.csv',\n",
       " '../../sentiment_analysis_files/score_youtube_comments_정직한 후보.csv',\n",
       " '../../sentiment_analysis_files/score_youtube_comments_힘을 내요, 미스터 리.csv',\n",
       " '../../sentiment_analysis_files/score_youtube_comments_블랙머니.csv',\n",
       " '../../sentiment_analysis_files/score_youtube_comments_봉오동 전투.csv',\n",
       " '../../sentiment_analysis_files/score_youtube_comments_82년생 김지영.csv',\n",
       " '../../sentiment_analysis_files/score_youtube_comments_나의 특별한 형제.csv',\n",
       " '../../sentiment_analysis_files/score_youtube_comments_이웃사촌.csv',\n",
       " '../../sentiment_analysis_files/score_youtube_comments_돈.csv',\n",
       " '../../sentiment_analysis_files/score_youtube_comments_원더 우먼 1984.csv',\n",
       " '../../sentiment_analysis_files/score_youtube_comments_극한직업.csv',\n",
       " '../../sentiment_analysis_files/score_youtube_comments_테넷.csv',\n",
       " '../../sentiment_analysis_files/score_youtube_comments_장사리  잊혀진 영웅들.csv',\n",
       " '../../sentiment_analysis_files/score_youtube_comments_쥬만지 넥스트 레벨.csv',\n",
       " '../../sentiment_analysis_files/score_youtube_comments_어스.csv',\n",
       " '../../sentiment_analysis_files/score_youtube_comments_지푸라기라도 잡고 싶은 짐승들.csv',\n",
       " '../../sentiment_analysis_files/score_youtube_comments_남산의 부장들.csv',\n",
       " '../../sentiment_analysis_files/score_youtube_comments_사라진 시간.csv',\n",
       " '../../sentiment_analysis_files/score_youtube_comments_드래곤 길들이기 3.csv',\n",
       " '../../sentiment_analysis_files/score_youtube_comments_걸캅스.csv',\n",
       " '../../sentiment_analysis_files/score_youtube_comments_시동.csv',\n",
       " '../../sentiment_analysis_files/score_youtube_comments_겨울왕국 2.csv',\n",
       " '../../sentiment_analysis_files/score_youtube_comments_내가 죽던 날.csv',\n",
       " '../../sentiment_analysis_files/score_youtube_comments_사자.csv',\n",
       " '../../sentiment_analysis_files/score_youtube_comments_1917.csv']"
      ]
     },
     "execution_count": 6,
     "metadata": {},
     "output_type": "execute_result"
    }
   ],
   "source": [
    "file_list = glob.glob('../sentiment_analysis_files/*')\n",
    "file_list"
   ]
  },
  {
   "cell_type": "code",
   "execution_count": 12,
   "metadata": {},
   "outputs": [],
   "source": [
    "columns=['영화명', 'mean_score', 'sqr_mean_score', 'abs_mean_score']\n",
    "result = pd.DataFrame(columns=columns)\n",
    "\n",
    "for file in file_list:\n",
    "  df_comments = pd.read_csv(file)\n",
    "\n",
    "  movie_name = re.match(r'^.*sentiment\\_analysis\\_files\\/score\\_youtube\\_comments\\_(.*).csv$', file).group(1)\n",
    "  mean_score = np.mean(df_comments['score'])\n",
    "  sqr_mean_score = np.mean(df_comments['score']**2)\n",
    "  abs_mean_score = np.mean(np.abs(df_comments['score']))\n",
    "\n",
    "  new_row = [[movie_name, mean_score, sqr_mean_score, abs_mean_score]]\n",
    "\n",
    "  result = result.append(pd.DataFrame(new_row, columns=columns), ignore_index=True)\n"
   ]
  },
  {
   "cell_type": "code",
   "execution_count": 13,
   "metadata": {},
   "outputs": [],
   "source": [
    "result.to_csv('state_score.csv', encoding='utf-8-sig')"
   ]
  },
  {
   "cell_type": "code",
   "execution_count": null,
   "metadata": {},
   "outputs": [],
   "source": []
  },
  {
   "cell_type": "code",
   "execution_count": null,
   "metadata": {},
   "outputs": [],
   "source": []
  }
 ],
 "metadata": {
  "interpreter": {
   "hash": "31f2aee4e71d21fbe5cf8b01ff0e069b9275f58929596ceb00d14d90e3e16cd6"
  },
  "kernelspec": {
   "display_name": "Python 3.7.5 64-bit",
   "language": "python",
   "name": "python3"
  },
  "language_info": {
   "codemirror_mode": {
    "name": "ipython",
    "version": 3
   },
   "file_extension": ".py",
   "mimetype": "text/x-python",
   "name": "python",
   "nbconvert_exporter": "python",
   "pygments_lexer": "ipython3",
   "version": "3.7.4"
  },
  "orig_nbformat": 4
 },
 "nbformat": 4,
 "nbformat_minor": 2
}
